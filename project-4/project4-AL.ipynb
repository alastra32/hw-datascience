{
 "cells": [
  {
   "cell_type": "markdown",
   "metadata": {},
   "source": [
    "# Project 4\n",
    "\n",
    "In this project, you will summarize and present your analysis from Projects 1-3."
   ]
  },
  {
   "cell_type": "markdown",
   "metadata": {},
   "source": [
    "### Intro: Write a problem Statement/ Specific Aim for this project"
   ]
  },
  {
   "cell_type": "markdown",
   "metadata": {},
   "source": [
    "Answer: \n",
    "\n",
    "Determine which students will be admitted to the graduate program, using student's undergrad alma mater data  (undergrad alma mater rank) and student's grades data (GRE scores, GPA Grade Point Average) based on admissions.csv for unknown time period."
   ]
  },
  {
   "cell_type": "markdown",
   "metadata": {},
   "source": [
    "### Dataset:  Write up a description of your data and any cleaning that was completed"
   ]
  },
  {
   "cell_type": "markdown",
   "metadata": {},
   "source": [
    "Answer: \n",
    "\n",
    "\n",
    "Description of Dataset:\n",
    "\n",
    "Variable | Description | Type of Variable\n",
    "---| ---| ---\n",
    "admit | Admittance 0 = not admit 1 = admit | categorical\n",
    "gre | GRE Score (200-800) | discrete \n",
    "gpa | Grade Point Average (0.0-4.0) | continuous\n",
    "prestige | prestige rank of an applicant's undergraduate alma mater, with 1 being the highest and 4 as the lowest |  categorical\n",
    "\n",
    "\n",
    "Cleaning Data:\n",
    "\n",
    "The dataset was cleaned by removing any lines with null values, where we were left with 397 data points. Then we modified for logistic regression by creating dummy variables for the 4 categorical variables of 'prestige'. Finally, we add an intercept of 1 before fitting the model to the data."
   ]
  },
  {
   "cell_type": "markdown",
   "metadata": {
    "collapsed": true
   },
   "source": [
    "### Demo: Provide a table that explains the data by admission status"
   ]
  },
  {
   "cell_type": "markdown",
   "metadata": {},
   "source": [
    "Mean (STD) or counts by admission status for each variable \n",
    "\n",
    "| Not Admitted | Admitted\n",
    "---| ---|---\n",
    "GPA | 3.347(0.376)  | 3.489(0.371)\n",
    "GRE |573.579(116.053) | 618.571(109.257)\n",
    "Prestige 1 |28 (45.90%) | 33 (54.10%)\n",
    "Prestige 2 |95 (64.19%) | 53 (35.81%)\n",
    "Prestige 3 |93 (76.86%) | 28 (23.14%)\n",
    "Prestige 4 |55 (82.09%) | 12 (17.91%)\n"
   ]
  },
  {
   "cell_type": "markdown",
   "metadata": {},
   "source": [
    "### Methods: Write up the methods used in your analysis"
   ]
  },
  {
   "cell_type": "markdown",
   "metadata": {},
   "source": [
    "Answer:  \n",
    "1-Examine mean, std, and quantiles of data.   \n",
    "2-Plot variables on boxplots.   \n",
    "3-Look at correlation table of variables, and plot variables against each other.   \n",
    "4-Look at histograms of variables.    \n",
    "5-Tested for normality of the variables.  \n",
    "6-Create a linear model using logistic regression. Examine output.   \n",
    "7-Calculate odds ratios of covariates to understand their effect on the outcome.  "
   ]
  },
  {
   "cell_type": "markdown",
   "metadata": {},
   "source": [
    "### Results: Write up your results"
   ]
  },
  {
   "cell_type": "markdown",
   "metadata": {},
   "source": [
    "Answer:   \n",
    "\n",
    "All variables were statistically significant towards determining being admitted to the graduate program. \n",
    "\n",
    "Odds ratios were as follows:   \n",
    "\n",
    "* gre: 1.002221    \n",
    "* gpa: 2.180027    \n",
    "* prestige_2.0: 0.506548   \n",
    "* prestige_3.0: 0.262192   \n",
    "* prestige_4.0: 0.211525   \n",
    "* intercept:  0.020716   \n",
    "\n",
    "\n",
    "Increasing GRE, GPA, and prestige all contribute positively to a student getting admitted into graduate school."
   ]
  },
  {
   "cell_type": "markdown",
   "metadata": {},
   "source": [
    "### Visuals: Provide a table or visualization of these results"
   ]
  },
  {
   "cell_type": "markdown",
   "metadata": {},
   "source": [
    "|   OR |  97.5% |    2.5%  \n",
    "---| ---|---\n",
    "GPA |  1.002221  |  1.004372  |   1.000074 \n",
    "GRE | 2.180027 |  4.183113 | 1.136120\n",
    "Prestige 2 |0.506548 |  0.942767| 0.272168 \n",
    "Prestige 3 |  0.262192| 0.515419 | 0.133377 \n",
    "Prestige 4 |0.211525 | 0.479411|0.093329 \n",
    "Intercept |0.020716 | 0.194440| 0.002207\n",
    " "
   ]
  },
  {
   "cell_type": "markdown",
   "metadata": {},
   "source": [
    "### Discussion: Write up your discussion and future steps"
   ]
  },
  {
   "cell_type": "markdown",
   "metadata": {},
   "source": [
    "Answer: \n",
    "\n",
    "We now have a model we can use to test on future student applications for this graduate program. We can then determine if this model proves to be accurate on new datasets by measuring it's accuracy. The model can be improved by incorporating the new dataset and looking to see if it's accuracy improves on another new dataset. Otherwise,we can attempt to gather other admission factors outside of our current dataset such as extracurricular activities, racial profile of applicants, family members admitted, etc and try to incorporate these variables into our model. This would help us build a more complex model with more variables which could potentially have more acurracy on future datasets.\n"
   ]
  },
  {
   "cell_type": "code",
   "execution_count": null,
   "metadata": {
    "collapsed": true
   },
   "outputs": [],
   "source": []
  }
 ],
 "metadata": {
  "kernelspec": {
   "display_name": "Python 2",
   "language": "python",
   "name": "python2"
  },
  "language_info": {
   "codemirror_mode": {
    "name": "ipython",
    "version": 2
   },
   "file_extension": ".py",
   "mimetype": "text/x-python",
   "name": "python",
   "nbconvert_exporter": "python",
   "pygments_lexer": "ipython2",
   "version": "2.7.13"
  }
 },
 "nbformat": 4,
 "nbformat_minor": 0
}
